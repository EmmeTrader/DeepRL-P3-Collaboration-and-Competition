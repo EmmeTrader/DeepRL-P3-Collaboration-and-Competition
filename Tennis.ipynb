{
 "cells": [
  {
   "cell_type": "markdown",
   "metadata": {},
   "source": [
    "# Collaboration and Competition\n",
    "\n",
    "---\n",
    "\n",
    "You are welcome to use this coding environment to train your agent for the project.  Follow the instructions below to get started!\n",
    "\n",
    "### 1. Start the Environment\n",
    "\n",
    "Run the next code cell to install a few packages.  This line will take a few minutes to run!"
   ]
  },
  {
   "cell_type": "code",
   "execution_count": 1,
   "metadata": {},
   "outputs": [
    {
     "name": "stdout",
     "output_type": "stream",
     "text": [
      "\u001b[31mtensorflow 1.7.1 has requirement numpy>=1.13.3, but you'll have numpy 1.12.1 which is incompatible.\u001b[0m\r\n",
      "\u001b[31mipython 6.5.0 has requirement prompt-toolkit<2.0.0,>=1.0.15, but you'll have prompt-toolkit 3.0.18 which is incompatible.\u001b[0m\r\n"
     ]
    }
   ],
   "source": [
    "!pip -q install ./python"
   ]
  },
  {
   "cell_type": "markdown",
   "metadata": {},
   "source": [
    "The environment is already saved in the Workspace and can be accessed at the file path provided below. "
   ]
  },
  {
   "cell_type": "code",
   "execution_count": 2,
   "metadata": {},
   "outputs": [
    {
     "name": "stderr",
     "output_type": "stream",
     "text": [
      "INFO:unityagents:\n",
      "'Academy' started successfully!\n",
      "Unity Academy name: Academy\n",
      "        Number of Brains: 1\n",
      "        Number of External Brains : 1\n",
      "        Lesson number : 0\n",
      "        Reset Parameters :\n",
      "\t\t\n",
      "Unity brain name: TennisBrain\n",
      "        Number of Visual Observations (per agent): 0\n",
      "        Vector Observation space type: continuous\n",
      "        Vector Observation space size (per agent): 8\n",
      "        Number of stacked Vector Observation: 3\n",
      "        Vector Action space type: continuous\n",
      "        Vector Action space size (per agent): 2\n",
      "        Vector Action descriptions: , \n"
     ]
    }
   ],
   "source": [
    "from unityagents import UnityEnvironment\n",
    "import numpy as np\n",
    "\n",
    "env = UnityEnvironment(file_name=\"/data/Tennis_Linux_NoVis/Tennis\")"
   ]
  },
  {
   "cell_type": "markdown",
   "metadata": {},
   "source": [
    "Environments contain **_brains_** which are responsible for deciding the actions of their associated agents. Here we check for the first brain available, and set it as the default brain we will be controlling from Python."
   ]
  },
  {
   "cell_type": "code",
   "execution_count": 3,
   "metadata": {},
   "outputs": [],
   "source": [
    "# get the default brain\n",
    "brain_name = env.brain_names[0]\n",
    "brain = env.brains[brain_name]"
   ]
  },
  {
   "cell_type": "markdown",
   "metadata": {},
   "source": [
    "### 2. Examine the State and Action Spaces\n",
    "\n",
    "Run the code cell below to print some information about the environment."
   ]
  },
  {
   "cell_type": "code",
   "execution_count": 4,
   "metadata": {},
   "outputs": [
    {
     "name": "stdout",
     "output_type": "stream",
     "text": [
      "Number of agents: 2\n",
      "Size of each action: 2\n",
      "There are 2 agents. Each observes a state with length: 24\n",
      "The state for the first agent looks like: [ 0.          0.          0.          0.          0.          0.          0.\n",
      "  0.          0.          0.          0.          0.          0.          0.\n",
      "  0.          0.         -6.65278625 -1.5        -0.          0.\n",
      "  6.83172083  6.         -0.          0.        ]\n"
     ]
    }
   ],
   "source": [
    "# reset the environment\n",
    "env_info = env.reset(train_mode=True)[brain_name]\n",
    "\n",
    "# number of agents \n",
    "num_agents = len(env_info.agents)\n",
    "print('Number of agents:', num_agents)\n",
    "\n",
    "# size of each action\n",
    "action_size = brain.vector_action_space_size\n",
    "print('Size of each action:', action_size)\n",
    "\n",
    "# examine the state space \n",
    "states = env_info.vector_observations\n",
    "state_size = states.shape[1]\n",
    "print('There are {} agents. Each observes a state with length: {}'.format(states.shape[0], state_size))\n",
    "print('The state for the first agent looks like:', states[0])"
   ]
  },
  {
   "cell_type": "markdown",
   "metadata": {},
   "source": [
    "### 3. Take Random Actions in the Environment\n",
    "\n",
    "In the next code cell, you will learn how to use the Python API to control the agent and receive feedback from the environment.\n",
    "\n",
    "Note that **in this coding environment, you will not be able to watch the agents while they are training**, and you should set `train_mode=True` to restart the environment."
   ]
  },
  {
   "cell_type": "code",
   "execution_count": 5,
   "metadata": {},
   "outputs": [
    {
     "name": "stdout",
     "output_type": "stream",
     "text": [
      "Total score (averaged over agents) this episode: -0.004999999888241291\n",
      "Total score (averaged over agents) this episode: -0.004999999888241291\n",
      "Total score (averaged over agents) this episode: -0.004999999888241291\n",
      "Total score (averaged over agents) this episode: -0.004999999888241291\n",
      "Total score (averaged over agents) this episode: -0.004999999888241291\n"
     ]
    }
   ],
   "source": [
    "for i in range(5):                                         # play game for 5 episodes\n",
    "    env_info = env.reset(train_mode=False)[brain_name]     # reset the environment    \n",
    "    states = env_info.vector_observations                  # get the current state (for each agent)\n",
    "    scores = np.zeros(num_agents)                          # initialize the score (for each agent)\n",
    "    while True:\n",
    "        actions = np.random.randn(num_agents, action_size) # select an action (for each agent)\n",
    "        actions = np.clip(actions, -1, 1)                  # all actions between -1 and 1\n",
    "        env_info = env.step(actions)[brain_name]           # send all actions to tne environment\n",
    "        next_states = env_info.vector_observations         # get next state (for each agent)\n",
    "        rewards = env_info.rewards                         # get reward (for each agent)\n",
    "        dones = env_info.local_done                        # see if episode finished\n",
    "        scores += env_info.rewards                         # update the score (for each agent)\n",
    "        states = next_states                               # roll over states to next time step\n",
    "        if np.any(dones):                                  # exit loop if episode finished\n",
    "            break\n",
    "    print('Total score (averaged over agents) this episode: {}'.format(np.mean(scores)))"
   ]
  },
  {
   "cell_type": "markdown",
   "metadata": {},
   "source": [
    "When finished, you can close the environment."
   ]
  },
  {
   "cell_type": "code",
   "execution_count": null,
   "metadata": {},
   "outputs": [],
   "source": [
    "env.close()"
   ]
  },
  {
   "cell_type": "markdown",
   "metadata": {},
   "source": [
    "### 4. It's Your Turn!\n",
    "\n",
    "Now it's your turn to train your own agent to solve the environment!  A few **important notes**:\n",
    "- When training the environment, set `train_mode=True`, so that the line for resetting the environment looks like the following:\n",
    "```python\n",
    "env_info = env.reset(train_mode=True)[brain_name]\n",
    "```\n",
    "- To structure your work, you're welcome to work directly in this Jupyter notebook, or you might like to start over with a new file!  You can see the list of files in the workspace by clicking on **_Jupyter_** in the top left corner of the notebook.\n",
    "- In this coding environment, you will not be able to watch the agents while they are training.  However, **_after training the agents_**, you can download the saved model weights to watch the agents on your own machine! "
   ]
  },
  {
   "cell_type": "code",
   "execution_count": 1,
   "metadata": {},
   "outputs": [
    {
     "name": "stdout",
     "output_type": "stream",
     "text": [
      "\u001b[31mtensorflow 1.7.1 has requirement numpy>=1.13.3, but you'll have numpy 1.12.1 which is incompatible.\u001b[0m\r\n",
      "\u001b[31mipython 6.5.0 has requirement prompt-toolkit<2.0.0,>=1.0.15, but you'll have prompt-toolkit 3.0.18 which is incompatible.\u001b[0m\r\n"
     ]
    },
    {
     "name": "stderr",
     "output_type": "stream",
     "text": [
      "INFO:unityagents:\n",
      "'Academy' started successfully!\n",
      "Unity Academy name: Academy\n",
      "        Number of Brains: 1\n",
      "        Number of External Brains : 1\n",
      "        Lesson number : 0\n",
      "        Reset Parameters :\n",
      "\t\t\n",
      "Unity brain name: TennisBrain\n",
      "        Number of Visual Observations (per agent): 0\n",
      "        Vector Observation space type: continuous\n",
      "        Vector Observation space size (per agent): 8\n",
      "        Number of stacked Vector Observation: 3\n",
      "        Vector Action space type: continuous\n",
      "        Vector Action space size (per agent): 2\n",
      "        Vector Action descriptions: , \n"
     ]
    }
   ],
   "source": [
    "!pip -q install ./python\n",
    "from unityagents import UnityEnvironment\n",
    "import numpy as np\n",
    "import matplotlib.pyplot as plt\n",
    "\n",
    "env = UnityEnvironment(file_name=\"/data/Tennis_Linux_NoVis/Tennis\")"
   ]
  },
  {
   "cell_type": "code",
   "execution_count": 2,
   "metadata": {},
   "outputs": [],
   "source": [
    "brain_name = env.brain_names[0]\n",
    "brain = env.brains[brain_name]"
   ]
  },
  {
   "cell_type": "code",
   "execution_count": 3,
   "metadata": {},
   "outputs": [
    {
     "name": "stdout",
     "output_type": "stream",
     "text": [
      "Number of agents: 2\n"
     ]
    }
   ],
   "source": [
    "# reset the environment\n",
    "env_info = env.reset(train_mode=True)[brain_name]\n",
    "\n",
    "state_size = env_info.vector_observations.shape[1]\n",
    "agents_nb = len(env_info.agents)\n",
    "action_size = brain.vector_action_space_size\n",
    "\n",
    "# number of agents \n",
    "num_agents = len(env_info.agents)\n",
    "print('Number of agents:', num_agents)"
   ]
  },
  {
   "cell_type": "code",
   "execution_count": 7,
   "metadata": {},
   "outputs": [],
   "source": [
    "from ddpg_agent_ok import Agent, load_and_test\n",
    "from workspace_utils import keep_awake\n",
    "from collections import namedtuple, deque\n",
    "import matplotlib.pyplot as plt\n",
    "import random\n",
    "import copy\n",
    "import torch"
   ]
  },
  {
   "cell_type": "code",
   "execution_count": 15,
   "metadata": {},
   "outputs": [],
   "source": [
    "def ddpg(\n",
    "    agent,\n",
    "    n_episodes=2000,\n",
    "    max_t=1500,\n",
    "    print_every=100,\n",
    "    gamma = 0.96,\n",
    "    gamma_final = 0.99,\n",
    "    gamma_rate = 0.02,\n",
    "    tau = 0.008,\n",
    "    tau_final = 0.001,\n",
    "    tau_rate = 0.001,\n",
    "    noise_scale = 1.0\n",
    "    ):\n",
    "    \n",
    "    \n",
    "    completed = False\n",
    "    \n",
    "    max_scores_deque = deque(maxlen = print_every)\n",
    "    #scores_deque = deque(maxlen=print_every)\n",
    "    #scores = []\n",
    "    max_scores = []\n",
    "    avg_max_scores = []\n",
    "    best_avg_max = 0.0\n",
    "    best_agent_max = 0.0\n",
    "    for i_episode in keep_awake(range(1, n_episodes+1),1):\n",
    "        \n",
    "        # Reset environment\n",
    "        env_info = env.reset(train_mode=True)[brain_name]\n",
    "        \n",
    "        # Get next state\n",
    "        state = env_info.vector_observations\n",
    "        \n",
    "        # state = env.reset()\n",
    "        agent.reset()\n",
    "\n",
    "        score = np.zeros(agent.num_agents)\n",
    "        \n",
    "        for t in range(max_t):\n",
    "            \n",
    "            # Get actions\n",
    "            action = agent.act(state, noise_scale)\n",
    "            #print(action)\n",
    "\n",
    "            # Send actions to the environment\n",
    "            env_info = env.step(action)[brain_name]\n",
    "            \n",
    "            # Get next state\n",
    "            next_state = env_info.vector_observations\n",
    "            \n",
    "            # Get rewards\n",
    "            reward = env_info.rewards\n",
    "            \n",
    "            # Check if episode is finished\n",
    "            done = env_info.local_done\n",
    "            \n",
    "            # Make the agent proceed to the next timestep in the environment\n",
    "            agent.step(state, action, reward, next_state, done, gamma, tau)\n",
    "            \n",
    "            # Add rewards to scores\n",
    "            score += reward\n",
    "            \n",
    "            # Replace the current state with the next state for the next episode\n",
    "            state = next_state\n",
    "            \n",
    "            # Exit if episode is finished\n",
    "            if np.any(done):\n",
    "                break\n",
    "                \n",
    "        #print('Total score (averaged over agents) this episode: {}'.format(np.mean(score)))\n",
    "        agent_avg = np.mean(score)\n",
    "        agent_max = np.max(score)\n",
    "        agent_min = np.min(score)\n",
    "        max_scores.append(agent_max)\n",
    "        max_scores_deque.append(agent_max)         \n",
    "        avg_max = np.mean(max_scores_deque)\n",
    "        avg_max_scores.append(avg_max)\n",
    "        #scores_deque.append(agent_avg)\n",
    "        #scores.append(agent_avg)\n",
    "        avg_score = np.mean(max_scores_deque)\n",
    "                          \n",
    "        \n",
    "        if i_episode % print_every == 0:\n",
    "            print('Episode {}\\t\\t\\t AvgMax: {:.4f}'.format(i_episode, avg_max))\n",
    "        \n",
    "        if i_episode >=100 and not completed and avg_max > 0.5:\n",
    "            completed = True\n",
    "            best_avg_max = avg_max\n",
    "            torch.save(agent.actor_local.state_dict(), 'actor_weights.pth')\n",
    "            torch.save(agent.critic_local.state_dict(), 'critic_weights.pth')\n",
    "            print(\"100-episode-average max score >0.5 after {:d} episodes.\\t AvgMax: {:.4f}\".format(i_episode, avg_max))\n",
    "        \n",
    "        if completed and avg_max > best_avg_max:\n",
    "            best_avg_max = avg_max\n",
    "            torch.save(agent.actor_local.state_dict(), 'actor_weights_best_avg_max.pth')\n",
    "            torch.save(agent.critic_local.state_dict(), 'critic_weights_best_avg_max.pth')\n",
    "            print(\"New best 100-episode-average at Episode {:d}.\\t AvgMax: {:.4f}\".format(i_episode, avg_max))\n",
    "        \n",
    "               \n",
    "        # Increase gamma discount factor. Limit to gamma_final.\n",
    "        gamma = gamma_final - (1 - gamma_rate) * (gamma_final - gamma)\n",
    "        \n",
    "        tau = tau_final - (1 - tau_rate) * (tau_final - tau)\n",
    "        \n",
    "        \n",
    "    torch.save(agent.actor_local.state_dict(), 'actor_final_weights.pth')\n",
    "    torch.save(agent.critic_local.state_dict(), 'critic_final_weights.pth')\n",
    "    return max_scores, avg_max_scores"
   ]
  },
  {
   "cell_type": "code",
   "execution_count": 16,
   "metadata": {},
   "outputs": [],
   "source": [
    "agent = Agent(\n",
    "    state_size = state_size,\n",
    "    action_size = action_size,\n",
    "    num_agents = num_agents,\n",
    "    random_seed = 0,\n",
    "    buffer_size = int(1e6),\n",
    "    batch_size = 512, \n",
    "    lr_actor = 1e-3,\n",
    "    lr_critic = 2e-3,\n",
    "    noise_theta = 0.12,\n",
    "    noise_sigma = 0.07,\n",
    "    actor_fc1 = 164,\n",
    "    actor_fc2 = 100,\n",
    "    critic_fc1 = 164,\n",
    "    critic_fc2 = 100,\n",
    "    update_every = 15,\n",
    "    num_updates = 12)"
   ]
  },
  {
   "cell_type": "code",
   "execution_count": 17,
   "metadata": {
    "scrolled": true
   },
   "outputs": [
    {
     "name": "stdout",
     "output_type": "stream",
     "text": [
      "Episode 100\t\t\t AvgMax: 0.0009\n",
      "Episode 200\t\t\t AvgMax: 0.0077\n",
      "Episode 300\t\t\t AvgMax: 0.0095\n",
      "Episode 400\t\t\t AvgMax: 0.0811\n",
      "Episode 500\t\t\t AvgMax: 0.1164\n",
      "Episode 600\t\t\t AvgMax: 0.1735\n",
      "100-episode-average max score >0.5 after 661 episodes.\t AvgMax: 0.5043\n",
      "New best 100-episode-average at Episode 662.\t AvgMax: 0.5133\n",
      "New best 100-episode-average at Episode 663.\t AvgMax: 0.5213\n",
      "New best 100-episode-average at Episode 664.\t AvgMax: 0.5454\n",
      "New best 100-episode-average at Episode 665.\t AvgMax: 0.5554\n",
      "New best 100-episode-average at Episode 666.\t AvgMax: 0.5624\n",
      "New best 100-episode-average at Episode 667.\t AvgMax: 0.5775\n",
      "New best 100-episode-average at Episode 668.\t AvgMax: 0.6025\n",
      "New best 100-episode-average at Episode 669.\t AvgMax: 0.6276\n",
      "New best 100-episode-average at Episode 670.\t AvgMax: 0.6526\n",
      "New best 100-episode-average at Episode 672.\t AvgMax: 0.6767\n",
      "New best 100-episode-average at Episode 673.\t AvgMax: 0.7017\n",
      "New best 100-episode-average at Episode 674.\t AvgMax: 0.7267\n",
      "New best 100-episode-average at Episode 676.\t AvgMax: 0.7397\n",
      "New best 100-episode-average at Episode 677.\t AvgMax: 0.7427\n",
      "New best 100-episode-average at Episode 678.\t AvgMax: 0.7607\n",
      "New best 100-episode-average at Episode 679.\t AvgMax: 0.7847\n",
      "New best 100-episode-average at Episode 680.\t AvgMax: 0.7927\n",
      "New best 100-episode-average at Episode 681.\t AvgMax: 0.8177\n",
      "New best 100-episode-average at Episode 682.\t AvgMax: 0.8297\n",
      "New best 100-episode-average at Episode 685.\t AvgMax: 0.8338\n",
      "New best 100-episode-average at Episode 686.\t AvgMax: 0.8368\n",
      "New best 100-episode-average at Episode 687.\t AvgMax: 0.8378\n",
      "New best 100-episode-average at Episode 688.\t AvgMax: 0.8408\n",
      "New best 100-episode-average at Episode 691.\t AvgMax: 0.8548\n",
      "New best 100-episode-average at Episode 692.\t AvgMax: 0.8578\n",
      "New best 100-episode-average at Episode 693.\t AvgMax: 0.8648\n",
      "New best 100-episode-average at Episode 694.\t AvgMax: 0.8798\n",
      "New best 100-episode-average at Episode 695.\t AvgMax: 0.9048\n",
      "New best 100-episode-average at Episode 698.\t AvgMax: 0.9178\n",
      "New best 100-episode-average at Episode 699.\t AvgMax: 0.9388\n",
      "Episode 700\t\t\t AvgMax: 0.9638\n",
      "New best 100-episode-average at Episode 700.\t AvgMax: 0.9638\n",
      "New best 100-episode-average at Episode 701.\t AvgMax: 0.9848\n",
      "New best 100-episode-average at Episode 702.\t AvgMax: 0.9978\n",
      "New best 100-episode-average at Episode 703.\t AvgMax: 1.0128\n",
      "New best 100-episode-average at Episode 704.\t AvgMax: 1.0378\n",
      "New best 100-episode-average at Episode 705.\t AvgMax: 1.0598\n",
      "New best 100-episode-average at Episode 708.\t AvgMax: 1.0689\n",
      "New best 100-episode-average at Episode 709.\t AvgMax: 1.0789\n",
      "New best 100-episode-average at Episode 717.\t AvgMax: 1.0839\n",
      "New best 100-episode-average at Episode 718.\t AvgMax: 1.0919\n",
      "New best 100-episode-average at Episode 719.\t AvgMax: 1.1159\n",
      "New best 100-episode-average at Episode 721.\t AvgMax: 1.1409\n",
      "New best 100-episode-average at Episode 723.\t AvgMax: 1.1479\n",
      "New best 100-episode-average at Episode 725.\t AvgMax: 1.1559\n",
      "New best 100-episode-average at Episode 726.\t AvgMax: 1.1619\n",
      "New best 100-episode-average at Episode 727.\t AvgMax: 1.1639\n",
      "New best 100-episode-average at Episode 728.\t AvgMax: 1.1729\n",
      "New best 100-episode-average at Episode 729.\t AvgMax: 1.1739\n",
      "New best 100-episode-average at Episode 730.\t AvgMax: 1.1759\n",
      "New best 100-episode-average at Episode 731.\t AvgMax: 1.1959\n",
      "New best 100-episode-average at Episode 733.\t AvgMax: 1.2159\n",
      "New best 100-episode-average at Episode 736.\t AvgMax: 1.2179\n",
      "New best 100-episode-average at Episode 737.\t AvgMax: 1.2349\n",
      "New best 100-episode-average at Episode 738.\t AvgMax: 1.2569\n",
      "New best 100-episode-average at Episode 739.\t AvgMax: 1.2819\n",
      "New best 100-episode-average at Episode 741.\t AvgMax: 1.2909\n",
      "New best 100-episode-average at Episode 742.\t AvgMax: 1.3109\n",
      "New best 100-episode-average at Episode 743.\t AvgMax: 1.3349\n",
      "New best 100-episode-average at Episode 744.\t AvgMax: 1.3589\n",
      "New best 100-episode-average at Episode 745.\t AvgMax: 1.3779\n",
      "New best 100-episode-average at Episode 747.\t AvgMax: 1.3949\n",
      "New best 100-episode-average at Episode 748.\t AvgMax: 1.4179\n",
      "New best 100-episode-average at Episode 749.\t AvgMax: 1.4299\n",
      "New best 100-episode-average at Episode 750.\t AvgMax: 1.4329\n",
      "New best 100-episode-average at Episode 751.\t AvgMax: 1.4579\n",
      "New best 100-episode-average at Episode 752.\t AvgMax: 1.4659\n",
      "New best 100-episode-average at Episode 754.\t AvgMax: 1.4829\n",
      "New best 100-episode-average at Episode 756.\t AvgMax: 1.5029\n",
      "New best 100-episode-average at Episode 777.\t AvgMax: 1.5090\n",
      "New best 100-episode-average at Episode 789.\t AvgMax: 1.5229\n",
      "New best 100-episode-average at Episode 790.\t AvgMax: 1.5479\n",
      "Episode 800\t\t\t AvgMax: 1.5129\n",
      "New best 100-episode-average at Episode 822.\t AvgMax: 1.5669\n",
      "New best 100-episode-average at Episode 824.\t AvgMax: 1.5729\n",
      "New best 100-episode-average at Episode 825.\t AvgMax: 1.5819\n",
      "New best 100-episode-average at Episode 826.\t AvgMax: 1.6009\n",
      "New best 100-episode-average at Episode 827.\t AvgMax: 1.6229\n",
      "New best 100-episode-average at Episode 828.\t AvgMax: 1.6369\n",
      "New best 100-episode-average at Episode 832.\t AvgMax: 1.6449\n",
      "New best 100-episode-average at Episode 834.\t AvgMax: 1.6699\n",
      "New best 100-episode-average at Episode 835.\t AvgMax: 1.6859\n",
      "New best 100-episode-average at Episode 883.\t AvgMax: 1.7099\n",
      "New best 100-episode-average at Episode 884.\t AvgMax: 1.7119\n",
      "New best 100-episode-average at Episode 885.\t AvgMax: 1.7329\n",
      "New best 100-episode-average at Episode 886.\t AvgMax: 1.7449\n",
      "New best 100-episode-average at Episode 895.\t AvgMax: 1.7609\n",
      "New best 100-episode-average at Episode 898.\t AvgMax: 1.7659\n",
      "New best 100-episode-average at Episode 899.\t AvgMax: 1.7669\n",
      "Episode 900\t\t\t AvgMax: 1.7659\n",
      "New best 100-episode-average at Episode 907.\t AvgMax: 1.7819\n",
      "New best 100-episode-average at Episode 909.\t AvgMax: 1.8089\n",
      "New best 100-episode-average at Episode 910.\t AvgMax: 1.8109\n",
      "New best 100-episode-average at Episode 911.\t AvgMax: 1.8309\n",
      "New best 100-episode-average at Episode 912.\t AvgMax: 1.8439\n",
      "New best 100-episode-average at Episode 913.\t AvgMax: 1.8649\n",
      "New best 100-episode-average at Episode 918.\t AvgMax: 1.8849\n",
      "Episode 1000\t\t\t AvgMax: 1.3410\n",
      "Episode 1100\t\t\t AvgMax: 1.0130\n",
      "Episode 1200\t\t\t AvgMax: 1.3513\n",
      "Episode 1300\t\t\t AvgMax: 1.1627\n",
      "Episode 1400\t\t\t AvgMax: 1.4557\n",
      "Episode 1500\t\t\t AvgMax: 1.6178\n",
      "Episode 1600\t\t\t AvgMax: 1.2501\n",
      "Episode 1700\t\t\t AvgMax: 0.6369\n",
      "Episode 1800\t\t\t AvgMax: 1.6086\n",
      "New best 100-episode-average at Episode 1886.\t AvgMax: 1.8876\n",
      "New best 100-episode-average at Episode 1887.\t AvgMax: 1.9127\n",
      "New best 100-episode-average at Episode 1888.\t AvgMax: 1.9387\n",
      "New best 100-episode-average at Episode 1889.\t AvgMax: 1.9647\n",
      "New best 100-episode-average at Episode 1890.\t AvgMax: 1.9907\n",
      "New best 100-episode-average at Episode 1891.\t AvgMax: 2.0167\n",
      "New best 100-episode-average at Episode 1892.\t AvgMax: 2.0227\n",
      "New best 100-episode-average at Episode 1893.\t AvgMax: 2.0437\n",
      "New best 100-episode-average at Episode 1895.\t AvgMax: 2.0577\n",
      "New best 100-episode-average at Episode 1896.\t AvgMax: 2.0777\n",
      "New best 100-episode-average at Episode 1897.\t AvgMax: 2.0987\n",
      "New best 100-episode-average at Episode 1898.\t AvgMax: 2.1247\n",
      "New best 100-episode-average at Episode 1899.\t AvgMax: 2.1487\n",
      "Episode 1900\t\t\t AvgMax: 2.1517\n",
      "New best 100-episode-average at Episode 1900.\t AvgMax: 2.1517\n",
      "New best 100-episode-average at Episode 1901.\t AvgMax: 2.1758\n",
      "New best 100-episode-average at Episode 1909.\t AvgMax: 2.1978\n",
      "New best 100-episode-average at Episode 1910.\t AvgMax: 2.1988\n",
      "New best 100-episode-average at Episode 1915.\t AvgMax: 2.2088\n",
      "New best 100-episode-average at Episode 1916.\t AvgMax: 2.2108\n",
      "New best 100-episode-average at Episode 1923.\t AvgMax: 2.2129\n",
      "Episode 2000\t\t\t AvgMax: 1.8389\n"
     ]
    }
   ],
   "source": [
    "max_scores, avg_max_scores = ddpg(\n",
    "    agent,\n",
    "    n_episodes = 2000,\n",
    "    max_t = 1000,\n",
    "    gamma = 0.95,\n",
    "    gamma_final = 0.99,\n",
    "    gamma_rate = 0.02,\n",
    "    tau = 0.008,\n",
    "    tau_final = 0.001,\n",
    "    tau_rate = 0.002,\n",
    "    noise_scale = 1\n",
    ")"
   ]
  },
  {
   "cell_type": "code",
   "execution_count": 18,
   "metadata": {},
   "outputs": [
    {
     "data": {
      "image/png": "[encoded data removed]",
      "text/plain": [
       "<matplotlib.figure.Figure at 0x7ff6775645f8>"
      ]
     },
     "metadata": {
      "needs_background": "light"
     },
     "output_type": "display_data"
    }
   ],
   "source": [
    "import matplotlib.pyplot as plt\n",
    "\n",
    "\n",
    "fig = plt.figure(figsize=(8, 6), dpi=100)\n",
    "\n",
    "plt.plot(np.arange(1, len(max_scores)+1), max_scores)\n",
    "plt.plot(np.arange(1, len(max_scores)+1), avg_max_scores, 'g',linewidth=4, label='avg')\n",
    "plt.ylabel('Score')\n",
    "plt.xlabel('Episode #')\n",
    "plt.show()"
   ]
  },
  {
   "cell_type": "code",
   "execution_count": 19,
   "metadata": {},
   "outputs": [],
   "source": [
    "env.close()"
   ]
  },
  {
   "cell_type": "code",
   "execution_count": null,
   "metadata": {},
   "outputs": [],
   "source": []
  }
 ],
 "metadata": {
  "kernelspec": {
   "display_name": "Python 3",
   "language": "python",
   "name": "python3"
  },
  "language_info": {
   "codemirror_mode": {
    "name": "ipython",
    "version": 3
   },
   "file_extension": ".py",
   "mimetype": "text/x-python",
   "name": "python",
   "nbconvert_exporter": "python",
   "pygments_lexer": "ipython3",
   "version": "3.6.3"
  }
 },
 "nbformat": 4,
 "nbformat_minor": 2
}
